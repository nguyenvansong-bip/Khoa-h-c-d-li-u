{
 "cells": [
  {
   "cell_type": "code",
   "execution_count": 3,
   "id": "9fb82311",
   "metadata": {},
   "outputs": [],
   "source": [
    "import csv\n",
    "import numpy as np\n",
    "import matplotlib.pyplot as plt\n",
    "import seaborn as sns\n",
    "import re\n",
    "from sklearn.linear_model import LinearRegression\n",
    "from sklearn.impute import KNNImputer\n",
    "from sklearn.preprocessing import LabelEncoder, StandardScaler\n",
    "from sklearn.pipeline import Pipeline\n",
    "from sklearn.ensemble import RandomForestClassifier\n",
    "from sklearn.model_selection import GridSearchCV, cross_validate\n",
    "from scipy.stats import ttest_ind\n"
   ]
  },
  {
   "cell_type": "code",
   "execution_count": 16,
   "id": "165bf7f6",
   "metadata": {},
   "outputs": [],
   "source": [
    "def read_csv(filename):\n",
    "    with open(filename, newline='', encoding='utf-8') as f:\n",
    "        reader = csv.DictReader(f)\n",
    "        return list(reader)\n",
    "\n",
    "data = read_csv(\"D:\\\\visua stiudio xanh\\\\hocki_3\\\\laptirnh_py\\\\K215480106043_NguyenVanSong_BaiTap-KhoaHocDuLieu_21-4\\\\bai1\\\\titanic\\\\train.csv\")\n"
   ]
  },
  {
   "cell_type": "code",
   "execution_count": 19,
   "id": "60afb446",
   "metadata": {},
   "outputs": [],
   "source": [
    "rows = []\n",
    "for row in data:\n",
    "    try:\n",
    "        pclass = int(row['Pclass'])\n",
    "        sex = 1 if row['Sex'] == 'male' else 0\n",
    "        age = float(row['Age']) if row['Age'] else np.nan\n",
    "        sibsp = int(row['SibSp'])\n",
    "        parch = int(row['Parch'])\n",
    "        fare = float(row['Fare']) if row['Fare'] else 0.0\n",
    "        embarked = row['Embarked'] if row['Embarked'] else 'U'\n",
    "        cabin = row['Cabin']\n",
    "        name = row['Name']\n",
    "        survived = int(row['Survived'])\n",
    "        rows.append([survived, pclass, sex, age, sibsp, parch, fare, embarked, cabin, name])\n",
    "    except:\n",
    "        continue\n",
    "\n",
    "data_np = np.array(rows, dtype=object)\n"
   ]
  },
  {
   "cell_type": "code",
   "execution_count": 20,
   "id": "77ebc3bc",
   "metadata": {},
   "outputs": [],
   "source": [
    "survived, pclass, sex, age, sibsp, parch, fare, embarked, cabin, name = data_np.T\n",
    "\n",
    "mask_known_age = ~np.isnan(age.astype(float))\n",
    "X_age = np.vstack((pclass[mask_known_age].astype(int), \n",
    "                   sex[mask_known_age].astype(int), \n",
    "                   sibsp[mask_known_age].astype(int), \n",
    "                   parch[mask_known_age].astype(int))).T\n",
    "y_age = age[mask_known_age].astype(float)\n",
    "\n",
    "lr = LinearRegression()\n",
    "lr.fit(X_age, y_age)\n",
    "\n",
    "mask_missing_age = np.isnan(age.astype(float))\n",
    "X_missing = np.vstack((pclass[mask_missing_age].astype(int), \n",
    "                       sex[mask_missing_age].astype(int), \n",
    "                       sibsp[mask_missing_age].astype(int), \n",
    "                       parch[mask_missing_age].astype(int))).T\n",
    "predicted_age = lr.predict(X_missing)\n",
    "age[mask_missing_age] = predicted_age\n"
   ]
  },
  {
   "cell_type": "code",
   "execution_count": 21,
   "id": "9018e3d8",
   "metadata": {},
   "outputs": [],
   "source": [
    "le_embarked = LabelEncoder()\n",
    "embarked_encoded = le_embarked.fit_transform(embarked)\n",
    "\n",
    "X_emb = np.vstack((pclass.astype(int), fare.astype(float), age.astype(float), embarked_encoded)).T\n",
    "imputer = KNNImputer(n_neighbors=3)\n",
    "X_emb_imputed = imputer.fit_transform(X_emb)\n",
    "embarked_filled = le_embarked.inverse_transform(np.round(X_emb_imputed[:, -1]).astype(int))\n"
   ]
  },
  {
   "cell_type": "code",
   "execution_count": 22,
   "id": "ce350227",
   "metadata": {},
   "outputs": [],
   "source": [
    "deck = np.array([c[0] if c else 'U' for c in cabin])\n",
    "le_deck = LabelEncoder()\n",
    "deck_encoded = le_deck.fit_transform(deck)\n"
   ]
  },
  {
   "cell_type": "code",
   "execution_count": 23,
   "id": "82d8ee36",
   "metadata": {},
   "outputs": [],
   "source": [
    "sibsp = sibsp.astype(int)\n",
    "parch = parch.astype(int)\n",
    "family_size = sibsp + parch + 1\n",
    "is_alone = (family_size == 1).astype(int)\n"
   ]
  },
  {
   "cell_type": "code",
   "execution_count": 26,
   "id": "0778d20c",
   "metadata": {},
   "outputs": [],
   "source": [
    "def extract_title(name):\n",
    "    match = re.search(r',\\s*([^\\.]*)\\.', name)\n",
    "    if match:\n",
    "        return match.group(1).strip()\n",
    "    return 'None'\n",
    "\n",
    "titles = [extract_title(n) for n in name]\n",
    "common_titles = {'Mr', 'Miss', 'Mrs', 'Master'}\n",
    "titles_cleaned = [t if t in common_titles else 'Rare' for t in titles]\n",
    "le_title = LabelEncoder()\n",
    "title_encoded = le_title.fit_transform(titles_cleaned)\n"
   ]
  },
  {
   "cell_type": "code",
   "execution_count": 24,
   "id": "61b2627d",
   "metadata": {},
   "outputs": [],
   "source": [
    "fare = fare.astype(float)\n",
    "fare_per_person = fare / family_size\n"
   ]
  },
  {
   "cell_type": "code",
   "execution_count": 27,
   "id": "aada717d",
   "metadata": {},
   "outputs": [
    {
     "data": {
      "image/png": "[encoded data removed]",
      "text/plain": [
       "<Figure size 640x480 with 1 Axes>"
      ]
     },
     "metadata": {},
     "output_type": "display_data"
    },
    {
     "name": "stdout",
     "output_type": "stream",
     "text": [
      "T-test: t = -5.6683, p = 0.0000\n"
     ]
    }
   ],
   "source": [
    "pclass_int = pclass.astype(int)\n",
    "survived_int = survived.astype(int)\n",
    "\n",
    "sns.boxplot(x=pclass_int, y=fare_per_person, hue=survived_int)\n",
    "plt.title(\"Fare Per Person by Pclass and Survival\")\n",
    "plt.show()\n",
    "\n",
    "group_0 = fare_per_person[survived_int == 0]\n",
    "group_1 = fare_per_person[survived_int == 1]\n",
    "t_stat, p_val = ttest_ind(group_0, group_1, equal_var=False)\n",
    "print(f\"T-test: t = {t_stat:.4f}, p = {p_val:.4f}\")\n"
   ]
  },
  {
   "cell_type": "code",
   "execution_count": 28,
   "id": "7b22aec2",
   "metadata": {},
   "outputs": [
    {
     "name": "stdout",
     "output_type": "stream",
     "text": [
      "Best Params: {'model__max_depth': 5, 'model__n_estimators': 100}\n"
     ]
    }
   ],
   "source": [
    "X = np.column_stack([\n",
    "    pclass.astype(int), sex.astype(int), age.astype(float),\n",
    "    fare_per_person, le_embarked.transform(embarked_filled),\n",
    "    deck_encoded, title_encoded, family_size, is_alone\n",
    "])\n",
    "y = survived.astype(int)\n",
    "\n",
    "pipe = Pipeline([\n",
    "    ('scale', StandardScaler()),\n",
    "    ('model', RandomForestClassifier(random_state=42))\n",
    "])\n",
    "\n",
    "params = {\n",
    "    'model__n_estimators': [100, 200],\n",
    "    'model__max_depth': [5, 10, None]\n",
    "}\n",
    "\n",
    "grid = GridSearchCV(pipe, params, cv=5, scoring='accuracy', n_jobs=-1)\n",
    "grid.fit(X, y)\n",
    "\n",
    "print(\"Best Params:\", grid.best_params_)\n"
   ]
  },
  {
   "cell_type": "code",
   "execution_count": 29,
   "id": "da2d3376",
   "metadata": {},
   "outputs": [
    {
     "name": "stdout",
     "output_type": "stream",
     "text": [
      "fit_time: 0.1662\n",
      "score_time: 0.0220\n",
      "test_accuracy: 0.8305\n",
      "test_precision: 0.8270\n",
      "test_recall: 0.7073\n",
      "test_f1: 0.7606\n",
      "test_roc_auc: 0.8783\n"
     ]
    }
   ],
   "source": [
    "scores = cross_validate(grid.best_estimator_, X, y, cv=5,\n",
    "                        scoring=['accuracy', 'precision', 'recall', 'f1', 'roc_auc'])\n",
    "\n",
    "for metric, value in scores.items():\n",
    "    print(f\"{metric}: {np.mean(value):.4f}\")\n"
   ]
  },
  {
   "cell_type": "code",
   "execution_count": 30,
   "id": "3274f938",
   "metadata": {},
   "outputs": [
    {
     "data": {
      "image/png": "[encoded data removed]",
      "text/plain": [
       "<Figure size 640x480 with 1 Axes>"
      ]
     },
     "metadata": {},
     "output_type": "display_data"
    }
   ],
   "source": [
    "model = grid.best_estimator_.named_steps['model']\n",
    "features = ['Pclass', 'Sex', 'Age', 'FarePerPerson', 'Embarked', 'Deck', 'Title', 'FamilySize', 'IsAlone']\n",
    "importances = model.feature_importances_\n",
    "\n",
    "sns.barplot(x=importances, y=features)\n",
    "plt.title(\"Feature Importance\")\n",
    "plt.show()\n"
   ]
  }
 ],
 "metadata": {
  "kernelspec": {
   "display_name": "Python 3",
   "language": "python",
   "name": "python3"
  },
  "language_info": {
   "codemirror_mode": {
    "name": "ipython",
    "version": 3
   },
   "file_extension": ".py",
   "mimetype": "text/x-python",
   "name": "python",
   "nbconvert_exporter": "python",
   "pygments_lexer": "ipython3",
   "version": "3.12.8"
  }
 },
 "nbformat": 4,
 "nbformat_minor": 5
}
