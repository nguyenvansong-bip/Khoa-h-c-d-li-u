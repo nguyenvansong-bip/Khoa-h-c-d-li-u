{
 "cells": [
  {
   "cell_type": "code",
   "execution_count": 3,
   "id": "13f96226",
   "metadata": {},
   "outputs": [],
   "source": [
    "from sklearn.feature_extraction.text import CountVectorizer\n",
    "from tensorflow.keras.preprocessing.text import Tokenizer\n",
    "from tensorflow.keras.preprocessing.sequence import pad_sequences\n",
    "from tensorflow.keras.models import Sequential\n",
    "from tensorflow.keras.layers import Dense, Embedding, LSTM, SpatialDropout1D\n",
    "from sklearn.model_selection import train_test_split\n",
    "from tensorflow.keras.utils import to_categorical\n",
    "import pandas as pd\n",
    "import numpy as np\n",
    "import matplotlib.pyplot as plt\n"
   ]
  },
  {
   "cell_type": "code",
   "execution_count": 6,
   "id": "32569cf3",
   "metadata": {},
   "outputs": [],
   "source": [
    "fb = pd.read_csv('D:\\\\visua stiudio xanh\\\\hocki_3\\\\congnghephanmem\\\\fb_sentiment.csv')"
   ]
  },
  {
   "cell_type": "code",
   "execution_count": 7,
   "id": "7d85cdc1",
   "metadata": {},
   "outputs": [
    {
     "data": {
      "text/html": [
       "<div>\n",
       "<style scoped>\n",
       "    .dataframe tbody tr th:only-of-type {\n",
       "        vertical-align: middle;\n",
       "    }\n",
       "\n",
       "    .dataframe tbody tr th {\n",
       "        vertical-align: top;\n",
       "    }\n",
       "\n",
       "    .dataframe thead th {\n",
       "        text-align: right;\n",
       "    }\n",
       "</style>\n",
       "<table border=\"1\" class=\"dataframe\">\n",
       "  <thead>\n",
       "    <tr style=\"text-align: right;\">\n",
       "      <th></th>\n",
       "      <th>Unnamed: 0</th>\n",
       "      <th>FBPost</th>\n",
       "      <th>Label</th>\n",
       "    </tr>\n",
       "  </thead>\n",
       "  <tbody>\n",
       "    <tr>\n",
       "      <th>0</th>\n",
       "      <td>0</td>\n",
       "      <td>Drug Runners and  a U.S. Senator have somethin...</td>\n",
       "      <td>O</td>\n",
       "    </tr>\n",
       "    <tr>\n",
       "      <th>1</th>\n",
       "      <td>1</td>\n",
       "      <td>Heres a single, to add, to Kindle. Just read t...</td>\n",
       "      <td>O</td>\n",
       "    </tr>\n",
       "    <tr>\n",
       "      <th>2</th>\n",
       "      <td>2</td>\n",
       "      <td>If you tire of Non-Fiction.. Check out http://...</td>\n",
       "      <td>O</td>\n",
       "    </tr>\n",
       "    <tr>\n",
       "      <th>3</th>\n",
       "      <td>3</td>\n",
       "      <td>Ghost of Round Island is supposedly nonfiction.</td>\n",
       "      <td>O</td>\n",
       "    </tr>\n",
       "    <tr>\n",
       "      <th>4</th>\n",
       "      <td>4</td>\n",
       "      <td>Why is Barnes and Nobles version of the Kindle...</td>\n",
       "      <td>N</td>\n",
       "    </tr>\n",
       "  </tbody>\n",
       "</table>\n",
       "</div>"
      ],
      "text/plain": [
       "   Unnamed: 0                                             FBPost Label\n",
       "0           0  Drug Runners and  a U.S. Senator have somethin...     O\n",
       "1           1  Heres a single, to add, to Kindle. Just read t...     O\n",
       "2           2  If you tire of Non-Fiction.. Check out http://...     O\n",
       "3           3    Ghost of Round Island is supposedly nonfiction.     O\n",
       "4           4  Why is Barnes and Nobles version of the Kindle...     N"
      ]
     },
     "execution_count": 8,
     "metadata": {},
     "output_type": "execute_result"
    }
   ],
   "source": [
    "fb.head()"
   ]
  },
  {
   "cell_type": "code",
   "execution_count": null,
   "id": "6651b10e",
   "metadata": {},
   "outputs": [],
   "source": [
    "# lower-casing the coloumn names\n",
    "fb.columns = map(str.lower, fb.columns)"
   ]
  },
  {
   "cell_type": "code",
   "execution_count": null,
   "id": "6865c45a",
   "metadata": {},
   "outputs": [
    {
     "data": {
      "text/plain": [
       "(1000, 3)"
      ]
     },
     "execution_count": 11,
     "metadata": {},
     "output_type": "execute_result"
    }
   ],
   "source": [
    "# checkin the shape of the DF\n",
    "fb.shape"
   ]
  },
  {
   "cell_type": "code",
   "execution_count": null,
   "id": "920976cb",
   "metadata": {},
   "outputs": [
    {
     "name": "stderr",
     "output_type": "stream",
     "text": [
      "<>:4: SyntaxWarning: invalid escape sequence '\\s'\n",
      "<>:4: SyntaxWarning: invalid escape sequence '\\s'\n",
      "C:\\Users\\Admin\\AppData\\Local\\Temp\\ipykernel_11400\\4201822071.py:4: SyntaxWarning: invalid escape sequence '\\s'\n",
      "  fb['fbpost'] = fb['fbpost'].apply((lambda x: re.sub('[^a-zA-z0-9\\s]','',x)))\n"
     ]
    }
   ],
   "source": [
    "#lowercasing the text and removing symbols though RegEx\n",
    "import re\n",
    "fb['fbpost'] = fb['fbpost'].apply(lambda x: x.lower())\n",
    "fb['fbpost'] = fb['fbpost'].apply((lambda x: re.sub('[^a-zA-z0-9\\s]','',x)))"
   ]
  },
  {
   "cell_type": "code",
   "execution_count": 11,
   "id": "54038dfe",
   "metadata": {},
   "outputs": [],
   "source": [
    "fb = fb[fb.label != \"O\"]"
   ]
  },
  {
   "cell_type": "code",
   "execution_count": 12,
   "id": "2a730d3c",
   "metadata": {},
   "outputs": [],
   "source": [
    "max_fatures = 2000\n",
    "tokenizer = Tokenizer(num_words=max_fatures, split=' ')\n",
    "tokenizer.fit_on_texts(fb['fbpost'].values)\n",
    "X = tokenizer.texts_to_sequences(fb['fbpost'].values)\n",
    "X = pad_sequences(X)"
   ]
  },
  {
   "cell_type": "code",
   "execution_count": 13,
   "id": "d4e2382a",
   "metadata": {},
   "outputs": [
    {
     "data": {
      "text/plain": [
       "label\n",
       "P    641\n",
       "N     79\n",
       "Name: count, dtype: int64"
      ]
     },
     "execution_count": 14,
     "metadata": {},
     "output_type": "execute_result"
    }
   ],
   "source": [
    "fb.label.value_counts()"
   ]
  },
  {
   "cell_type": "code",
   "execution_count": 14,
   "id": "4b8e7b67",
   "metadata": {},
   "outputs": [
    {
     "name": "stdout",
     "output_type": "stream",
     "text": [
      "(482, 203) (482, 2)\n",
      "(238, 203) (238, 2)\n"
     ]
    }
   ],
   "source": [
    "Y = pd.get_dummies(fb['label']).values\n",
    "X_train, X_test, Y_train, Y_test = train_test_split(X,Y, test_size = 0.33, random_state = 42)\n",
    "print(X_train.shape,Y_train.shape)\n",
    "print(X_test.shape,Y_test.shape)"
   ]
  },
  {
   "cell_type": "code",
   "execution_count": 15,
   "id": "007c246e",
   "metadata": {},
   "outputs": [
    {
     "name": "stderr",
     "output_type": "stream",
     "text": [
      "C:\\Users\\Admin\\AppData\\Roaming\\Python\\Python312\\site-packages\\keras\\src\\layers\\core\\embedding.py:90: UserWarning: Argument `input_length` is deprecated. Just remove it.\n",
      "  warnings.warn(\n"
     ]
    },
    {
     "data": {
      "text/html": [
       "<pre style=\"white-space:pre;overflow-x:auto;line-height:normal;font-family:Menlo,'DejaVu Sans Mono',consolas,'Courier New',monospace\"><span style=\"font-weight: bold\">Model: \"sequential\"</span>\n",
       "</pre>\n"
      ],
      "text/plain": [
       "\u001b[1mModel: \"sequential\"\u001b[0m\n"
      ]
     },
     "metadata": {},
     "output_type": "display_data"
    },
    {
     "data": {
      "text/html": [
       "<pre style=\"white-space:pre;overflow-x:auto;line-height:normal;font-family:Menlo,'DejaVu Sans Mono',consolas,'Courier New',monospace\">┏━━━━━━━━━━━━━━━━━━━━━━━━━━━━━━━━━┳━━━━━━━━━━━━━━━━━━━━━━━━┳━━━━━━━━━━━━━━━┓\n",
       "┃<span style=\"font-weight: bold\"> Layer (type)                    </span>┃<span style=\"font-weight: bold\"> Output Shape           </span>┃<span style=\"font-weight: bold\">       Param # </span>┃\n",
       "┡━━━━━━━━━━━━━━━━━━━━━━━━━━━━━━━━━╇━━━━━━━━━━━━━━━━━━━━━━━━╇━━━━━━━━━━━━━━━┩\n",
       "│ embedding (<span style=\"color: #0087ff; text-decoration-color: #0087ff\">Embedding</span>)           │ ?                      │   <span style=\"color: #00af00; text-decoration-color: #00af00\">0</span> (unbuilt) │\n",
       "├─────────────────────────────────┼────────────────────────┼───────────────┤\n",
       "│ spatial_dropout1d               │ ?                      │             <span style=\"color: #00af00; text-decoration-color: #00af00\">0</span> │\n",
       "│ (<span style=\"color: #0087ff; text-decoration-color: #0087ff\">SpatialDropout1D</span>)              │                        │               │\n",
       "├─────────────────────────────────┼────────────────────────┼───────────────┤\n",
       "│ lstm (<span style=\"color: #0087ff; text-decoration-color: #0087ff\">LSTM</span>)                     │ ?                      │   <span style=\"color: #00af00; text-decoration-color: #00af00\">0</span> (unbuilt) │\n",
       "├─────────────────────────────────┼────────────────────────┼───────────────┤\n",
       "│ dense (<span style=\"color: #0087ff; text-decoration-color: #0087ff\">Dense</span>)                   │ ?                      │   <span style=\"color: #00af00; text-decoration-color: #00af00\">0</span> (unbuilt) │\n",
       "└─────────────────────────────────┴────────────────────────┴───────────────┘\n",
       "</pre>\n"
      ],
      "text/plain": [
       "┏━━━━━━━━━━━━━━━━━━━━━━━━━━━━━━━━━┳━━━━━━━━━━━━━━━━━━━━━━━━┳━━━━━━━━━━━━━━━┓\n",
       "┃\u001b[1m \u001b[0m\u001b[1mLayer (type)                   \u001b[0m\u001b[1m \u001b[0m┃\u001b[1m \u001b[0m\u001b[1mOutput Shape          \u001b[0m\u001b[1m \u001b[0m┃\u001b[1m \u001b[0m\u001b[1m      Param #\u001b[0m\u001b[1m \u001b[0m┃\n",
       "┡━━━━━━━━━━━━━━━━━━━━━━━━━━━━━━━━━╇━━━━━━━━━━━━━━━━━━━━━━━━╇━━━━━━━━━━━━━━━┩\n",
       "│ embedding (\u001b[38;5;33mEmbedding\u001b[0m)           │ ?                      │   \u001b[38;5;34m0\u001b[0m (unbuilt) │\n",
       "├─────────────────────────────────┼────────────────────────┼───────────────┤\n",
       "│ spatial_dropout1d               │ ?                      │             \u001b[38;5;34m0\u001b[0m │\n",
       "│ (\u001b[38;5;33mSpatialDropout1D\u001b[0m)              │                        │               │\n",
       "├─────────────────────────────────┼────────────────────────┼───────────────┤\n",
       "│ lstm (\u001b[38;5;33mLSTM\u001b[0m)                     │ ?                      │   \u001b[38;5;34m0\u001b[0m (unbuilt) │\n",
       "├─────────────────────────────────┼────────────────────────┼───────────────┤\n",
       "│ dense (\u001b[38;5;33mDense\u001b[0m)                   │ ?                      │   \u001b[38;5;34m0\u001b[0m (unbuilt) │\n",
       "└─────────────────────────────────┴────────────────────────┴───────────────┘\n"
      ]
     },
     "metadata": {},
     "output_type": "display_data"
    },
    {
     "data": {
      "text/html": [
       "<pre style=\"white-space:pre;overflow-x:auto;line-height:normal;font-family:Menlo,'DejaVu Sans Mono',consolas,'Courier New',monospace\"><span style=\"font-weight: bold\"> Total params: </span><span style=\"color: #00af00; text-decoration-color: #00af00\">0</span> (0.00 B)\n",
       "</pre>\n"
      ],
      "text/plain": [
       "\u001b[1m Total params: \u001b[0m\u001b[38;5;34m0\u001b[0m (0.00 B)\n"
      ]
     },
     "metadata": {},
     "output_type": "display_data"
    },
    {
     "data": {
      "text/html": [
       "<pre style=\"white-space:pre;overflow-x:auto;line-height:normal;font-family:Menlo,'DejaVu Sans Mono',consolas,'Courier New',monospace\"><span style=\"font-weight: bold\"> Trainable params: </span><span style=\"color: #00af00; text-decoration-color: #00af00\">0</span> (0.00 B)\n",
       "</pre>\n"
      ],
      "text/plain": [
       "\u001b[1m Trainable params: \u001b[0m\u001b[38;5;34m0\u001b[0m (0.00 B)\n"
      ]
     },
     "metadata": {},
     "output_type": "display_data"
    },
    {
     "data": {
      "text/html": [
       "<pre style=\"white-space:pre;overflow-x:auto;line-height:normal;font-family:Menlo,'DejaVu Sans Mono',consolas,'Courier New',monospace\"><span style=\"font-weight: bold\"> Non-trainable params: </span><span style=\"color: #00af00; text-decoration-color: #00af00\">0</span> (0.00 B)\n",
       "</pre>\n"
      ],
      "text/plain": [
       "\u001b[1m Non-trainable params: \u001b[0m\u001b[38;5;34m0\u001b[0m (0.00 B)\n"
      ]
     },
     "metadata": {},
     "output_type": "display_data"
    },
    {
     "name": "stdout",
     "output_type": "stream",
     "text": [
      "None\n"
     ]
    }
   ],
   "source": [
    "embed_dim = 200\n",
    "lstm_out = 200\n",
    "\n",
    "model = Sequential()\n",
    "model.add(Embedding(max_fatures, embed_dim,input_length = X.shape[1]))\n",
    "model.add(SpatialDropout1D(0.4))\n",
    "model.add(LSTM(lstm_out, dropout=0.2, recurrent_dropout=0.2))\n",
    "model.add(Dense(2,activation='softmax'))\n",
    "model.compile(loss = 'categorical_crossentropy', optimizer='adam',metrics = ['accuracy'])\n",
    "print(model.summary())"
   ]
  },
  {
   "cell_type": "code",
   "execution_count": 16,
   "id": "f6ddd03b",
   "metadata": {},
   "outputs": [
    {
     "name": "stdout",
     "output_type": "stream",
     "text": [
      "Epoch 1/7\n",
      "16/16 - 11s - 682ms/step - accuracy: 0.8693 - loss: 0.4293\n",
      "Epoch 2/7\n",
      "16/16 - 5s - 338ms/step - accuracy: 0.8963 - loss: 0.3175\n",
      "Epoch 3/7\n",
      "16/16 - 6s - 354ms/step - accuracy: 0.8963 - loss: 0.2883\n",
      "Epoch 4/7\n",
      "16/16 - 6s - 361ms/step - accuracy: 0.8983 - loss: 0.2415\n",
      "Epoch 5/7\n",
      "16/16 - 6s - 353ms/step - accuracy: 0.9357 - loss: 0.1863\n",
      "Epoch 6/7\n",
      "16/16 - 5s - 342ms/step - accuracy: 0.9564 - loss: 0.1104\n",
      "Epoch 7/7\n",
      "16/16 - 5s - 336ms/step - accuracy: 0.9772 - loss: 0.0638\n"
     ]
    }
   ],
   "source": [
    "# Here we train the model\n",
    "batch_size = 32\n",
    "hist = model.fit(X_train, Y_train, epochs = 7, batch_size=batch_size, verbose = 2)"
   ]
  },
  {
   "cell_type": "code",
   "execution_count": 18,
   "id": "5494f204",
   "metadata": {},
   "outputs": [
    {
     "data": {
      "image/png": "[encoded data removed]",
      "text/plain": [
       "<Figure size 700x700 with 1 Axes>"
      ]
     },
     "metadata": {},
     "output_type": "display_data"
    }
   ],
   "source": [
    "# Plotting loss and accuracy over 7 epochs\n",
    "history = pd.DataFrame(hist.history)\n",
    "plt.figure(figsize=(7,7))\n",
    "plt.plot(history[\"loss\"], label='Loss')\n",
    "plt.plot(history[\"accuracy\"], label='Accuracy')\n",
    "plt.title(\"Loss and Accuracy over Epochs\")\n",
    "plt.xlabel(\"Epochs\")\n",
    "plt.ylabel(\"Value\")\n",
    "plt.legend()\n",
    "plt.grid(True)\n",
    "plt.show()\n"
   ]
  },
  {
   "cell_type": "code",
   "execution_count": 23,
   "id": "f448e7ca",
   "metadata": {},
   "outputs": [
    {
     "name": "stdout",
     "output_type": "stream",
     "text": [
      "\u001b[1m8/8\u001b[0m \u001b[32m━━━━━━━━━━━━━━━━━━━━\u001b[0m\u001b[37m\u001b[0m \u001b[1m1s\u001b[0m 79ms/step - accuracy: 0.8658 - loss: 0.4233\n",
      "score: 0.37\n",
      "accuracy: 0.87\n"
     ]
    }
   ],
   "source": [
    "#Testing the model, and retrieveing score and accuracy:\n",
    "score,acc = model.evaluate(X_test,Y_test)\n",
    "print(\"score: %.2f\" % (score))\n",
    "print(\"accuracy: %.2f\" % (acc))"
   ]
  },
  {
   "cell_type": "code",
   "execution_count": 24,
   "id": "51da8278",
   "metadata": {},
   "outputs": [],
   "source": [
    "#now we validate for the models accuracy in predicting either a positive, or a negative score:\n",
    "validation_size = 1500\n",
    "\n",
    "X_validate = X_test[-validation_size:]\n",
    "Y_validate = Y_test[-validation_size:]\n",
    "x_test = X_test[:-validation_size]\n",
    "y_test = Y_test[:-validation_size]"
   ]
  },
  {
   "cell_type": "code",
   "execution_count": 25,
   "id": "6243c24c",
   "metadata": {},
   "outputs": [
    {
     "name": "stdout",
     "output_type": "stream",
     "text": [
      "1/1 - 0s - 99ms/step\n",
      "1/1 - 0s - 96ms/step\n",
      "1/1 - 0s - 98ms/step\n",
      "1/1 - 0s - 109ms/step\n",
      "1/1 - 0s - 98ms/step\n",
      "1/1 - 0s - 109ms/step\n",
      "1/1 - 0s - 97ms/step\n",
      "1/1 - 0s - 92ms/step\n",
      "1/1 - 0s - 63ms/step\n",
      "1/1 - 0s - 80ms/step\n",
      "1/1 - 0s - 79ms/step\n",
      "1/1 - 0s - 70ms/step\n",
      "1/1 - 0s - 66ms/step\n",
      "1/1 - 0s - 112ms/step\n",
      "1/1 - 0s - 84ms/step\n",
      "1/1 - 0s - 83ms/step\n",
      "1/1 - 0s - 61ms/step\n",
      "1/1 - 0s - 63ms/step\n",
      "1/1 - 0s - 62ms/step\n",
      "1/1 - 0s - 61ms/step\n",
      "1/1 - 0s - 77ms/step\n",
      "1/1 - 0s - 67ms/step\n",
      "1/1 - 0s - 57ms/step\n",
      "1/1 - 0s - 56ms/step\n",
      "1/1 - 0s - 63ms/step\n",
      "1/1 - 0s - 69ms/step\n",
      "1/1 - 0s - 61ms/step\n",
      "1/1 - 0s - 72ms/step\n",
      "1/1 - 0s - 61ms/step\n",
      "1/1 - 0s - 57ms/step\n",
      "1/1 - 0s - 64ms/step\n",
      "1/1 - 0s - 57ms/step\n",
      "1/1 - 0s - 69ms/step\n",
      "1/1 - 0s - 68ms/step\n",
      "1/1 - 0s - 53ms/step\n",
      "1/1 - 0s - 55ms/step\n",
      "1/1 - 0s - 62ms/step\n",
      "1/1 - 0s - 58ms/step\n",
      "1/1 - 0s - 61ms/step\n",
      "1/1 - 0s - 71ms/step\n",
      "1/1 - 0s - 55ms/step\n",
      "1/1 - 0s - 50ms/step\n",
      "1/1 - 0s - 64ms/step\n",
      "1/1 - 0s - 54ms/step\n",
      "1/1 - 0s - 52ms/step\n",
      "1/1 - 0s - 46ms/step\n",
      "1/1 - 0s - 49ms/step\n",
      "1/1 - 0s - 44ms/step\n",
      "1/1 - 0s - 46ms/step\n",
      "1/1 - 0s - 53ms/step\n",
      "1/1 - 0s - 62ms/step\n",
      "1/1 - 0s - 82ms/step\n",
      "1/1 - 0s - 65ms/step\n",
      "1/1 - 0s - 67ms/step\n",
      "1/1 - 0s - 60ms/step\n",
      "1/1 - 0s - 63ms/step\n",
      "1/1 - 0s - 62ms/step\n",
      "1/1 - 0s - 59ms/step\n",
      "1/1 - 0s - 80ms/step\n",
      "1/1 - 0s - 51ms/step\n",
      "1/1 - 0s - 64ms/step\n",
      "1/1 - 0s - 54ms/step\n",
      "1/1 - 0s - 69ms/step\n",
      "1/1 - 0s - 103ms/step\n",
      "1/1 - 0s - 63ms/step\n",
      "1/1 - 0s - 58ms/step\n",
      "1/1 - 0s - 65ms/step\n",
      "1/1 - 0s - 76ms/step\n",
      "1/1 - 0s - 62ms/step\n",
      "1/1 - 0s - 61ms/step\n",
      "1/1 - 0s - 58ms/step\n",
      "1/1 - 0s - 58ms/step\n",
      "1/1 - 0s - 55ms/step\n",
      "1/1 - 0s - 58ms/step\n",
      "1/1 - 0s - 60ms/step\n",
      "1/1 - 0s - 56ms/step\n",
      "1/1 - 0s - 56ms/step\n",
      "1/1 - 0s - 62ms/step\n",
      "1/1 - 0s - 50ms/step\n",
      "1/1 - 0s - 55ms/step\n",
      "1/1 - 0s - 53ms/step\n",
      "1/1 - 0s - 63ms/step\n",
      "1/1 - 0s - 62ms/step\n",
      "1/1 - 0s - 60ms/step\n",
      "1/1 - 0s - 60ms/step\n",
      "1/1 - 0s - 63ms/step\n",
      "1/1 - 0s - 62ms/step\n",
      "1/1 - 0s - 46ms/step\n",
      "1/1 - 0s - 49ms/step\n",
      "1/1 - 0s - 56ms/step\n",
      "1/1 - 0s - 61ms/step\n",
      "1/1 - 0s - 62ms/step\n",
      "1/1 - 0s - 53ms/step\n",
      "1/1 - 0s - 53ms/step\n",
      "1/1 - 0s - 60ms/step\n",
      "1/1 - 0s - 61ms/step\n",
      "1/1 - 0s - 42ms/step\n",
      "1/1 - 0s - 58ms/step\n",
      "1/1 - 0s - 57ms/step\n",
      "1/1 - 0s - 55ms/step\n",
      "1/1 - 0s - 53ms/step\n",
      "1/1 - 0s - 55ms/step\n",
      "1/1 - 0s - 53ms/step\n",
      "1/1 - 0s - 57ms/step\n",
      "1/1 - 0s - 44ms/step\n",
      "1/1 - 0s - 56ms/step\n",
      "1/1 - 0s - 69ms/step\n",
      "1/1 - 0s - 74ms/step\n",
      "1/1 - 0s - 51ms/step\n",
      "1/1 - 0s - 56ms/step\n",
      "1/1 - 0s - 61ms/step\n",
      "1/1 - 0s - 75ms/step\n",
      "1/1 - 0s - 67ms/step\n",
      "1/1 - 0s - 70ms/step\n",
      "1/1 - 0s - 74ms/step\n",
      "1/1 - 0s - 68ms/step\n",
      "1/1 - 0s - 77ms/step\n",
      "1/1 - 0s - 75ms/step\n",
      "1/1 - 0s - 86ms/step\n",
      "1/1 - 0s - 74ms/step\n",
      "1/1 - 0s - 78ms/step\n",
      "1/1 - 0s - 82ms/step\n",
      "1/1 - 0s - 71ms/step\n",
      "1/1 - 0s - 71ms/step\n",
      "1/1 - 0s - 83ms/step\n",
      "1/1 - 0s - 71ms/step\n",
      "1/1 - 0s - 69ms/step\n",
      "1/1 - 0s - 72ms/step\n",
      "1/1 - 0s - 79ms/step\n",
      "1/1 - 0s - 78ms/step\n",
      "1/1 - 0s - 60ms/step\n",
      "1/1 - 0s - 84ms/step\n",
      "1/1 - 0s - 146ms/step\n",
      "1/1 - 0s - 90ms/step\n",
      "1/1 - 0s - 143ms/step\n",
      "1/1 - 0s - 94ms/step\n",
      "1/1 - 0s - 105ms/step\n",
      "1/1 - 0s - 135ms/step\n",
      "1/1 - 0s - 106ms/step\n",
      "1/1 - 0s - 72ms/step\n",
      "1/1 - 0s - 111ms/step\n",
      "1/1 - 0s - 118ms/step\n",
      "1/1 - 0s - 90ms/step\n",
      "1/1 - 0s - 74ms/step\n",
      "1/1 - 0s - 63ms/step\n",
      "1/1 - 0s - 78ms/step\n",
      "1/1 - 0s - 77ms/step\n",
      "1/1 - 0s - 87ms/step\n",
      "1/1 - 0s - 126ms/step\n",
      "1/1 - 0s - 83ms/step\n",
      "1/1 - 0s - 86ms/step\n",
      "1/1 - 0s - 100ms/step\n",
      "1/1 - 0s - 109ms/step\n",
      "1/1 - 0s - 78ms/step\n",
      "1/1 - 0s - 63ms/step\n",
      "1/1 - 0s - 79ms/step\n",
      "1/1 - 0s - 79ms/step\n",
      "1/1 - 0s - 92ms/step\n",
      "1/1 - 0s - 63ms/step\n",
      "1/1 - 0s - 69ms/step\n",
      "1/1 - 0s - 63ms/step\n",
      "1/1 - 0s - 66ms/step\n",
      "1/1 - 0s - 61ms/step\n",
      "1/1 - 0s - 68ms/step\n",
      "1/1 - 0s - 56ms/step\n",
      "1/1 - 0s - 46ms/step\n",
      "1/1 - 0s - 60ms/step\n",
      "1/1 - 0s - 57ms/step\n",
      "1/1 - 0s - 60ms/step\n",
      "1/1 - 0s - 60ms/step\n",
      "1/1 - 0s - 61ms/step\n",
      "1/1 - 0s - 60ms/step\n",
      "1/1 - 0s - 61ms/step\n",
      "1/1 - 0s - 58ms/step\n",
      "1/1 - 0s - 61ms/step\n",
      "1/1 - 0s - 57ms/step\n",
      "1/1 - 0s - 58ms/step\n",
      "1/1 - 0s - 62ms/step\n",
      "1/1 - 0s - 60ms/step\n",
      "1/1 - 0s - 61ms/step\n",
      "1/1 - 0s - 103ms/step\n",
      "1/1 - 0s - 61ms/step\n",
      "1/1 - 0s - 64ms/step\n",
      "1/1 - 0s - 77ms/step\n",
      "1/1 - 0s - 53ms/step\n",
      "1/1 - 0s - 69ms/step\n",
      "1/1 - 0s - 72ms/step\n",
      "1/1 - 0s - 55ms/step\n",
      "1/1 - 0s - 53ms/step\n",
      "1/1 - 0s - 55ms/step\n",
      "1/1 - 0s - 65ms/step\n",
      "1/1 - 0s - 79ms/step\n",
      "1/1 - 0s - 56ms/step\n",
      "1/1 - 0s - 71ms/step\n",
      "1/1 - 0s - 54ms/step\n",
      "1/1 - 0s - 58ms/step\n",
      "1/1 - 0s - 83ms/step\n",
      "1/1 - 0s - 54ms/step\n",
      "1/1 - 0s - 58ms/step\n",
      "1/1 - 0s - 57ms/step\n",
      "1/1 - 0s - 58ms/step\n",
      "1/1 - 0s - 59ms/step\n",
      "1/1 - 0s - 56ms/step\n",
      "1/1 - 0s - 65ms/step\n",
      "1/1 - 0s - 57ms/step\n",
      "1/1 - 0s - 58ms/step\n",
      "1/1 - 0s - 62ms/step\n",
      "1/1 - 0s - 55ms/step\n",
      "1/1 - 0s - 57ms/step\n",
      "1/1 - 0s - 59ms/step\n",
      "1/1 - 0s - 65ms/step\n",
      "1/1 - 0s - 75ms/step\n",
      "1/1 - 0s - 59ms/step\n",
      "1/1 - 0s - 59ms/step\n",
      "1/1 - 0s - 63ms/step\n",
      "1/1 - 0s - 54ms/step\n",
      "1/1 - 0s - 49ms/step\n",
      "1/1 - 0s - 65ms/step\n",
      "1/1 - 0s - 63ms/step\n",
      "1/1 - 0s - 59ms/step\n",
      "1/1 - 0s - 54ms/step\n",
      "1/1 - 0s - 46ms/step\n",
      "1/1 - 0s - 47ms/step\n",
      "1/1 - 0s - 60ms/step\n",
      "1/1 - 0s - 87ms/step\n",
      "1/1 - 0s - 71ms/step\n",
      "1/1 - 0s - 58ms/step\n",
      "1/1 - 0s - 72ms/step\n",
      "1/1 - 0s - 69ms/step\n",
      "1/1 - 0s - 59ms/step\n",
      "1/1 - 0s - 57ms/step\n",
      "1/1 - 0s - 56ms/step\n",
      "1/1 - 0s - 59ms/step\n",
      "1/1 - 0s - 59ms/step\n",
      "1/1 - 0s - 64ms/step\n",
      "1/1 - 0s - 53ms/step\n",
      "1/1 - 0s - 61ms/step\n",
      "1/1 - 0s - 46ms/step\n",
      "positive_acc 97.60765550239235 %\n",
      "negative_acc 13.793103448275861 %\n"
     ]
    }
   ],
   "source": [
    "pos_cnt, neg_cnt, pos_correct, neg_correct = 0, 0, 0, 0\n",
    "for x in range(len(X_validate)):\n",
    "    result = model.predict(X_validate[x].reshape(1,x_test.shape[1]),verbose = 2)[0]\n",
    "    if np.argmax(result) == np.argmax(Y_validate[x]):\n",
    "        if np.argmax(Y_validate[x]) == 0:\n",
    "            neg_correct += 1\n",
    "        else:\n",
    "            pos_correct += 1\n",
    "    if np.argmax(Y_validate[x]) == 0:\n",
    "        neg_cnt += 1\n",
    "    else:\n",
    "        pos_cnt += 1\n",
    "print(\"positive_acc\", pos_correct/pos_cnt*100, \"%\")\n",
    "print(\"negative_acc\", neg_correct/neg_cnt*100, \"%\")"
   ]
  },
  {
   "cell_type": "code",
   "execution_count": 26,
   "id": "0fa90cd3",
   "metadata": {},
   "outputs": [
    {
     "name": "stdout",
     "output_type": "stream",
     "text": [
      "[[  0   0   0   0   0   0   0   0   0   0   0   0   0   0   0   0   0   0\n",
      "    0   0   0   0   0   0   0   0   0   0   0   0   0   0   0   0   0   0\n",
      "    0   0   0   0   0   0   0   0   0   0   0   0   0   0   0   0   0   0\n",
      "    0   0   0   0   0   0   0   0   0   0   0   0   0   0   0   0   0   0\n",
      "    0   0   0   0   0   0   0   0   0   0   0   0   0   0   0   0   0   0\n",
      "    0   0   0   0   0   0   0   0   0   0   0   0   0   0   0   0   0   0\n",
      "    0   0   0   0   0   0   0   0   0   0   0   0   0   0   0   0   0   0\n",
      "    0   0   0   0   0   0   0   0   0   0   0   0   0   0   0   0   0   0\n",
      "    0   0   0   0   0   0   0   0   0   0   0   0   0   0   0   0   0   0\n",
      "    0   0   0   0   0   0   0   0   0   0   0   0   0   0   0   0   0   0\n",
      "    0   0   0   0   0   0   0   0  51 510 674  12   2 895   1  69  11   6\n",
      "   13  16  20   3   4]]\n",
      "1/1 - 0s - 67ms/step\n",
      "positive\n"
     ]
    }
   ],
   "source": [
    "#now testing  on a random sample from the Facebook comments on Kindle's page:\n",
    "cmnt = ['your customer service is the absolute worst i now have a mess of books on my kindle']\n",
    "#vectorizing the comment\n",
    "cmnt = tokenizer.texts_to_sequences(cmnt)\n",
    "cmnt = pad_sequences(cmnt, maxlen=203, dtype='int32', value=0)\n",
    "print(cmnt)\n",
    "sentiment = model.predict(cmnt,batch_size=2,verbose = 2)[0]\n",
    "if(np.argmax(sentiment) == 0):\n",
    "    print(\"negative\")\n",
    "elif (np.argmax(sentiment) == 1):\n",
    "    print(\"positive\")"
   ]
  }
 ],
 "metadata": {
  "kernelspec": {
   "display_name": "Python 3",
   "language": "python",
   "name": "python3"
  },
  "language_info": {
   "codemirror_mode": {
    "name": "ipython",
    "version": 3
   },
   "file_extension": ".py",
   "mimetype": "text/x-python",
   "name": "python",
   "nbconvert_exporter": "python",
   "pygments_lexer": "ipython3",
   "version": "3.12.8"
  }
 },
 "nbformat": 4,
 "nbformat_minor": 5
}
